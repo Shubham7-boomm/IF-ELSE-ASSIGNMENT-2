{
 "cells": [
  {
   "cell_type": "code",
   "execution_count": 8,
   "id": "72c76f91-46f9-47ff-b194-8366681d5b0f",
   "metadata": {},
   "outputs": [
    {
     "name": "stdin",
     "output_type": "stream",
     "text": [
      "Enter the number of units consumed:  250\n"
     ]
    },
    {
     "name": "stdout",
     "output_type": "stream",
     "text": [
      "Total electricity bill is: Rs 1000\n"
     ]
    }
   ],
   "source": [
    "#question 1\n",
    "units = int(input(\"Enter the number of units consumed: \"))\n",
    "bill = 0  \n",
    "if units > 100:\n",
    "    \n",
    "    if units <= 200:\n",
    "        bill = (units - 100) * 5\n",
    "    else:\n",
    "         bill = (100 * 5) + (units - 200) * 10\n",
    "else:\n",
    "    bill = 0  \n",
    "\n",
    "print(\"Total electricity bill is: Rs\", bill)"
   ]
  },
  {
   "cell_type": "code",
   "execution_count": 3,
   "id": "3a9c364f-3c3d-4805-bd70-52e15df16613",
   "metadata": {},
   "outputs": [
    {
     "name": "stdin",
     "output_type": "stream",
     "text": [
      "Enter your marks: 76\n"
     ]
    },
    {
     "name": "stdout",
     "output_type": "stream",
     "text": [
      "C grade\n"
     ]
    }
   ],
   "source": [
    "#question 2\n",
    "Marks=int(input(\"Enter your marks:\"))\n",
    "if Marks>90:\n",
    "    print(\"A grade\")\n",
    "elif Marks>80 and Marks<=90:\n",
    "    print(\"B grade\")\n",
    "elif Marks>=60 and Marks<=80:\n",
    "    print(\"C grade\")\n",
    "elif Marks<60:\n",
    "    print(\"D grade\")"
   ]
  },
  {
   "cell_type": "code",
   "execution_count": 9,
   "id": "c31dc309-69d3-48ae-81bb-e8a5a80f8b43",
   "metadata": {},
   "outputs": [
    {
     "name": "stdin",
     "output_type": "stream",
     "text": [
      "Enter age of person 1:  12\n",
      "Enter age of person 2:  23\n",
      "Enter age of person 3:  1\n",
      "Enter age of person 4:  2\n"
     ]
    },
    {
     "name": "stdout",
     "output_type": "stream",
     "text": [
      "The youngest age is: 1\n"
     ]
    }
   ],
   "source": [
    "#question 3\n",
    "age1 = int(input(\"Enter age of person 1: \"))\n",
    "age2 = int(input(\"Enter age of person 2: \"))\n",
    "age3 = int(input(\"Enter age of person 3: \"))\n",
    "age4 = int(input(\"Enter age of person 4: \"))\n",
    "youngest = age1\n",
    "\n",
    "if age2 < youngest:\n",
    "    youngest = age2\n",
    "\n",
    "if age3 < youngest:\n",
    "    youngest = age3\n",
    "\n",
    "if age4 < youngest:\n",
    "    youngest = age4\n",
    "\n",
    "print(\"The youngest age is:\", youngest)"
   ]
  },
  {
   "cell_type": "code",
   "execution_count": 18,
   "id": "cb685a9a-1e50-41d0-a551-e89b7310593d",
   "metadata": {},
   "outputs": [
    {
     "name": "stdin",
     "output_type": "stream",
     "text": [
      "Enter your salary 6000\n",
      "Enter your service time 7\n"
     ]
    },
    {
     "name": "stdout",
     "output_type": "stream",
     "text": [
      "your salary is: 6480.0\n"
     ]
    }
   ],
   "source": [
    "#question 4\n",
    "Salary=int(input(\"Enter your salary\"))\n",
    "Time=int(input(\"Enter your service time\"))\n",
    "if Time>10:\n",
    "    print(\"your salary including bonus is:\",(Salary*10)/100+Salary)\n",
    "elif Time>=6 and Time<=10:\n",
    "    print(\"your salary including bonus is:\",(Salary*8)/100+Salary)\n",
    "elif Time<6:\n",
    "    print(\"your salary including bonus is:\",(Salary*5)/100+Salary)"
   ]
  },
  {
   "cell_type": "code",
   "execution_count": 20,
   "id": "195d1a01-d296-43be-be83-153bd5d69378",
   "metadata": {},
   "outputs": [
    {
     "name": "stdin",
     "output_type": "stream",
     "text": [
      "enter the first number 12\n",
      "enter the second number 34\n",
      "enter the third number 23\n"
     ]
    },
    {
     "name": "stdout",
     "output_type": "stream",
     "text": [
      "the second largest number is: 23\n"
     ]
    }
   ],
   "source": [
    "#question 5\n",
    "num_1=int(input(\"enter the first number\"))\n",
    "num_2=int(input(\"enter the second number\"))\n",
    "num_3=int(input(\"enter the third number\"))\n",
    "numbers=[num_1,num_2,num_3]\n",
    "numbers.sort(reverse=True)\n",
    "print(\"the second largest number is:\",numbers[1])"
   ]
  },
  {
   "cell_type": "code",
   "execution_count": 10,
   "id": "0e28d1b7-5ee7-4d22-87c1-fec6bb85a1a8",
   "metadata": {},
   "outputs": [
    {
     "name": "stdin",
     "output_type": "stream",
     "text": [
      "Enter the marked price:  20000\n"
     ]
    },
    {
     "name": "stdout",
     "output_type": "stream",
     "text": [
      "Discount: Rs 4000.0\n",
      "Net amount to pay: Rs 16000.0\n"
     ]
    }
   ],
   "source": [
    "#question 6\n",
    "marked_price=int(input(\"Enter the marked price: \"))\n",
    "discount=0\n",
    "if marked_price>10000:\n",
    "    discount=marked_price*0.20\n",
    "if marked_price>7000 and marked_price<=10000:\n",
    "    discount=marked_price*0.15\n",
    "if marked_price<=7000:\n",
    "    discount=marked_price*0.10\n",
    "\n",
    "net_amount=marked_price-discount\n",
    "\n",
    "print(\"Discount: Rs\", discount)\n",
    "print(\"Net amount to pay: Rs\", net_amount)\n"
   ]
  },
  {
   "cell_type": "code",
   "execution_count": 13,
   "id": "8fc40b3b-94c3-4d90-83a7-a96f1e0e8209",
   "metadata": {},
   "outputs": [
    {
     "name": "stdin",
     "output_type": "stream",
     "text": [
      "Enter marks in English:  81\n",
      "Enter marks in Math:  82\n",
      "Enter marks in Science:  87\n",
      "Enter marks in Social Studies:  20\n"
     ]
    },
    {
     "name": "stdout",
     "output_type": "stream",
     "text": [
      "Stream Allotted: Commerce Stream\n"
     ]
    }
   ],
   "source": [
    "#question 7\n",
    "english=int(input(\"Enter marks in English: \"))\n",
    "math=int(input(\"Enter marks in Math: \"))\n",
    "science=int(input(\"Enter marks in Science: \"))\n",
    "social_studies=int(input(\"Enter marks in Social Studies: \"))\n",
    "\n",
    "if english > 80 and math > 80 and science > 80 and social_studies > 80:\n",
    "    print(\"Stream Allotted: Science Stream\")\n",
    "\n",
    "if english > 80 and math and science > 50:\n",
    "    print(\"Stream Allotted: Commerce Stream\")\n",
    "\n",
    "if english > 80 and social_studies > 80:\n",
    "    print(\"Stream Allotted: Humanities\")"
   ]
  },
  {
   "cell_type": "code",
   "execution_count": 14,
   "id": "4a448b50-485e-48ef-b604-3082b0e6b092",
   "metadata": {},
   "outputs": [
    {
     "name": "stdin",
     "output_type": "stream",
     "text": [
      "Enter a number:  15\n"
     ]
    },
    {
     "name": "stdout",
     "output_type": "stream",
     "text": [
      "Hello\n"
     ]
    }
   ],
   "source": [
    "#question 8\n",
    "number = int(input(\"Enter a number: \"))\n",
    "if number % 5 == 0:\n",
    "    print(\"Hello\")\n",
    "else:\n",
    "    print(\"Bye\")"
   ]
  },
  {
   "cell_type": "code",
   "execution_count": 15,
   "id": "f80b1c77-0162-481d-b143-c6091cdb2b03",
   "metadata": {},
   "outputs": [
    {
     "name": "stdin",
     "output_type": "stream",
     "text": [
      "Enter a number:  239\n"
     ]
    },
    {
     "name": "stdout",
     "output_type": "stream",
     "text": [
      "The last digit is divisible by 3.\n"
     ]
    }
   ],
   "source": [
    "#question 9\n",
    "number = int(input(\"Enter a number: \"))\n",
    "last_digit = abs(number) % 10  \n",
    "if last_digit % 3 == 0:\n",
    "    print(\"The last digit is divisible by 3.\")\n",
    "else:\n",
    "    print(\"The last digit is not divisible by 3.\")"
   ]
  },
  {
   "cell_type": "code",
   "execution_count": 16,
   "id": "4f5d3493-852c-424e-9895-e2571bb34b77",
   "metadata": {},
   "outputs": [
    {
     "name": "stdin",
     "output_type": "stream",
     "text": [
      "Enter a number:  2345\n"
     ]
    },
    {
     "name": "stdout",
     "output_type": "stream",
     "text": [
      "It is not a three-digit number.\n"
     ]
    }
   ],
   "source": [
    "# question 10\n",
    "number = int(input(\"Enter a number: \"))\n",
    "if 100 <= abs(number) <= 999:\n",
    "    print(\"It is a three-digit number.\")\n",
    "else:\n",
    "    print(\"It is not a three-digit number.\")"
   ]
  }
 ],
 "metadata": {
  "kernelspec": {
   "display_name": "Python 3 (ipykernel)",
   "language": "python",
   "name": "python3"
  },
  "language_info": {
   "codemirror_mode": {
    "name": "ipython",
    "version": 3
   },
   "file_extension": ".py",
   "mimetype": "text/x-python",
   "name": "python",
   "nbconvert_exporter": "python",
   "pygments_lexer": "ipython3",
   "version": "3.12.7"
  }
 },
 "nbformat": 4,
 "nbformat_minor": 5
}
